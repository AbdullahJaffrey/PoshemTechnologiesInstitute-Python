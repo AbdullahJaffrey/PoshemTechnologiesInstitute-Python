{
 "cells": [
  {
   "cell_type": "markdown",
   "id": "b6f4820d",
   "metadata": {},
   "source": [
    "## Importing Libraries:"
   ]
  },
  {
   "cell_type": "code",
   "execution_count": 1,
   "id": "b0aa5e9a",
   "metadata": {},
   "outputs": [],
   "source": [
    "import pandas as pd"
   ]
  },
  {
   "cell_type": "code",
   "execution_count": 2,
   "id": "927d0096",
   "metadata": {},
   "outputs": [],
   "source": [
    "import numpy as np"
   ]
  },
  {
   "cell_type": "code",
   "execution_count": 3,
   "id": "a54b59d0",
   "metadata": {},
   "outputs": [],
   "source": [
    "import matplotlib.pyplot as plt"
   ]
  },
  {
   "cell_type": "code",
   "execution_count": 4,
   "id": "6043eff6",
   "metadata": {},
   "outputs": [],
   "source": [
    "import seaborn as sns"
   ]
  },
  {
   "cell_type": "markdown",
   "id": "d3164f26",
   "metadata": {},
   "source": [
    "## Reading Data:"
   ]
  },
  {
   "cell_type": "code",
   "execution_count": 5,
   "id": "01f807a0",
   "metadata": {},
   "outputs": [],
   "source": [
    "df = pd.read_csv('Poshemtechresponse.csv')"
   ]
  },
  {
   "cell_type": "markdown",
   "id": "c59f6bea",
   "metadata": {},
   "source": [
    "## Displaying Data"
   ]
  },
  {
   "cell_type": "code",
   "execution_count": 6,
   "id": "5b62c020",
   "metadata": {},
   "outputs": [
    {
     "data": {
      "text/html": [
       "<div>\n",
       "<style scoped>\n",
       "    .dataframe tbody tr th:only-of-type {\n",
       "        vertical-align: middle;\n",
       "    }\n",
       "\n",
       "    .dataframe tbody tr th {\n",
       "        vertical-align: top;\n",
       "    }\n",
       "\n",
       "    .dataframe thead th {\n",
       "        text-align: right;\n",
       "    }\n",
       "</style>\n",
       "<table border=\"1\" class=\"dataframe\">\n",
       "  <thead>\n",
       "    <tr style=\"text-align: right;\">\n",
       "      <th></th>\n",
       "      <th>Timestamp</th>\n",
       "      <th>Age</th>\n",
       "      <th>Gender</th>\n",
       "      <th>Program</th>\n",
       "      <th>Teaching methods</th>\n",
       "      <th>Experience</th>\n",
       "      <th>Study Habit</th>\n",
       "      <th>Additional learning</th>\n",
       "      <th>Support Services</th>\n",
       "      <th>Academic support</th>\n",
       "      <th>Suggestions</th>\n",
       "      <th>Feedback</th>\n",
       "    </tr>\n",
       "  </thead>\n",
       "  <tbody>\n",
       "    <tr>\n",
       "      <th>0</th>\n",
       "      <td>2/18/2024 14:47:44</td>\n",
       "      <td>25 - 30</td>\n",
       "      <td>Female</td>\n",
       "      <td>Data Analyst</td>\n",
       "      <td>Effective</td>\n",
       "      <td>Satisfied</td>\n",
       "      <td>0-5 hours</td>\n",
       "      <td>yes</td>\n",
       "      <td>yes</td>\n",
       "      <td>Very effective</td>\n",
       "      <td>NaN</td>\n",
       "      <td>NaN</td>\n",
       "    </tr>\n",
       "    <tr>\n",
       "      <th>1</th>\n",
       "      <td>2/18/2024 15:03:58</td>\n",
       "      <td>25 - 30</td>\n",
       "      <td>Male</td>\n",
       "      <td>Data Analyst</td>\n",
       "      <td>Very effective</td>\n",
       "      <td>Very Satisfied</td>\n",
       "      <td>0-5 hours</td>\n",
       "      <td>yes</td>\n",
       "      <td>No</td>\n",
       "      <td>NaN</td>\n",
       "      <td>Just came in, everything is still moving well</td>\n",
       "      <td>I love the teachings</td>\n",
       "    </tr>\n",
       "    <tr>\n",
       "      <th>2</th>\n",
       "      <td>2/18/2024 15:05:24</td>\n",
       "      <td>25 - 30</td>\n",
       "      <td>Male</td>\n",
       "      <td>Data Analyst</td>\n",
       "      <td>Very effective</td>\n",
       "      <td>Very Satisfied</td>\n",
       "      <td>0-5 hours</td>\n",
       "      <td>yes</td>\n",
       "      <td>yes</td>\n",
       "      <td>Effective</td>\n",
       "      <td>Everything is top-notch till now.</td>\n",
       "      <td>Thank you for all the hard work you guys are d...</td>\n",
       "    </tr>\n",
       "    <tr>\n",
       "      <th>3</th>\n",
       "      <td>2/18/2024 15:19:25</td>\n",
       "      <td>30 -45</td>\n",
       "      <td>Male</td>\n",
       "      <td>Data Analyst</td>\n",
       "      <td>Very effective</td>\n",
       "      <td>Satisfied</td>\n",
       "      <td>0-5 hours</td>\n",
       "      <td>yes</td>\n",
       "      <td>yes</td>\n",
       "      <td>Effective</td>\n",
       "      <td>Style of teaching is satisfactory.  Keep it up!</td>\n",
       "      <td>I hope we all do well as data analysts and tha...</td>\n",
       "    </tr>\n",
       "    <tr>\n",
       "      <th>4</th>\n",
       "      <td>2/18/2024 15:19:43</td>\n",
       "      <td>30 -45</td>\n",
       "      <td>Male</td>\n",
       "      <td>Data Analyst</td>\n",
       "      <td>Very effective</td>\n",
       "      <td>Very Satisfied</td>\n",
       "      <td>20+ hours</td>\n",
       "      <td>yes</td>\n",
       "      <td>No</td>\n",
       "      <td>NaN</td>\n",
       "      <td>I think for now we are ok.</td>\n",
       "      <td>I am strongly encouraged, with the passion and...</td>\n",
       "    </tr>\n",
       "  </tbody>\n",
       "</table>\n",
       "</div>"
      ],
      "text/plain": [
       "            Timestamp      Age  Gender       Program  Teaching methods   \\\n",
       "0  2/18/2024 14:47:44  25 - 30  Female  Data Analyst          Effective   \n",
       "1  2/18/2024 15:03:58  25 - 30    Male  Data Analyst     Very effective   \n",
       "2  2/18/2024 15:05:24  25 - 30    Male  Data Analyst     Very effective   \n",
       "3  2/18/2024 15:19:25   30 -45    Male  Data Analyst     Very effective   \n",
       "4  2/18/2024 15:19:43   30 -45    Male  Data Analyst     Very effective   \n",
       "\n",
       "       Experience Study Habit  Additional learning Support Services  \\\n",
       "0       Satisfied    0-5 hours                 yes              yes   \n",
       "1  Very Satisfied    0-5 hours                 yes               No   \n",
       "2  Very Satisfied    0-5 hours                 yes              yes   \n",
       "3       Satisfied    0-5 hours                 yes              yes   \n",
       "4  Very Satisfied    20+ hours                 yes               No   \n",
       "\n",
       "  Academic support                                      Suggestions   \\\n",
       "0    Very effective                                              NaN   \n",
       "1               NaN   Just came in, everything is still moving well    \n",
       "2         Effective                Everything is top-notch till now.   \n",
       "3         Effective  Style of teaching is satisfactory.  Keep it up!   \n",
       "4               NaN                       I think for now we are ok.   \n",
       "\n",
       "                                           Feedback   \n",
       "0                                                NaN  \n",
       "1                              I love the teachings   \n",
       "2  Thank you for all the hard work you guys are d...  \n",
       "3  I hope we all do well as data analysts and tha...  \n",
       "4  I am strongly encouraged, with the passion and...  "
      ]
     },
     "execution_count": 6,
     "metadata": {},
     "output_type": "execute_result"
    }
   ],
   "source": [
    "df.head(5) # Displaying first 5 rows."
   ]
  },
  {
   "cell_type": "code",
   "execution_count": 7,
   "id": "f5eab8fc",
   "metadata": {},
   "outputs": [
    {
     "data": {
      "text/html": [
       "<div>\n",
       "<style scoped>\n",
       "    .dataframe tbody tr th:only-of-type {\n",
       "        vertical-align: middle;\n",
       "    }\n",
       "\n",
       "    .dataframe tbody tr th {\n",
       "        vertical-align: top;\n",
       "    }\n",
       "\n",
       "    .dataframe thead th {\n",
       "        text-align: right;\n",
       "    }\n",
       "</style>\n",
       "<table border=\"1\" class=\"dataframe\">\n",
       "  <thead>\n",
       "    <tr style=\"text-align: right;\">\n",
       "      <th></th>\n",
       "      <th>Timestamp</th>\n",
       "      <th>Age</th>\n",
       "      <th>Gender</th>\n",
       "      <th>Program</th>\n",
       "      <th>Teaching methods</th>\n",
       "      <th>Experience</th>\n",
       "      <th>Study Habit</th>\n",
       "      <th>Additional learning</th>\n",
       "      <th>Support Services</th>\n",
       "      <th>Academic support</th>\n",
       "      <th>Suggestions</th>\n",
       "      <th>Feedback</th>\n",
       "    </tr>\n",
       "  </thead>\n",
       "  <tbody>\n",
       "    <tr>\n",
       "      <th>7</th>\n",
       "      <td>2/19/2024 14:03:24</td>\n",
       "      <td>30 -45</td>\n",
       "      <td>Female</td>\n",
       "      <td>Data Analyst</td>\n",
       "      <td>Effective</td>\n",
       "      <td>Satisfied</td>\n",
       "      <td>0-5 hours</td>\n",
       "      <td>yes</td>\n",
       "      <td>No</td>\n",
       "      <td>NaN</td>\n",
       "      <td>I truly am appreciative of Poshem</td>\n",
       "      <td>NaN</td>\n",
       "    </tr>\n",
       "    <tr>\n",
       "      <th>8</th>\n",
       "      <td>2/19/2024 15:10:06</td>\n",
       "      <td>18 - 25</td>\n",
       "      <td>Male</td>\n",
       "      <td>Data Analyst</td>\n",
       "      <td>Very effective</td>\n",
       "      <td>Very Satisfied</td>\n",
       "      <td>0-5 hours</td>\n",
       "      <td>yes</td>\n",
       "      <td>yes</td>\n",
       "      <td>Effective</td>\n",
       "      <td>NaN</td>\n",
       "      <td>NaN</td>\n",
       "    </tr>\n",
       "    <tr>\n",
       "      <th>9</th>\n",
       "      <td>2/20/2024 1:25:29</td>\n",
       "      <td>30 -45</td>\n",
       "      <td>Female</td>\n",
       "      <td>Data Analyst</td>\n",
       "      <td>Very effective</td>\n",
       "      <td>Satisfied</td>\n",
       "      <td>0-5 hours</td>\n",
       "      <td>yes</td>\n",
       "      <td>yes</td>\n",
       "      <td>Effective</td>\n",
       "      <td>NaN</td>\n",
       "      <td>NaN</td>\n",
       "    </tr>\n",
       "    <tr>\n",
       "      <th>10</th>\n",
       "      <td>2/20/2024 6:10:39</td>\n",
       "      <td>30 -45</td>\n",
       "      <td>Male</td>\n",
       "      <td>Data Analyst</td>\n",
       "      <td>Effective</td>\n",
       "      <td>Satisfied</td>\n",
       "      <td>0-5 hours</td>\n",
       "      <td>yes</td>\n",
       "      <td>yes</td>\n",
       "      <td>Very effective</td>\n",
       "      <td>Nill</td>\n",
       "      <td>NaN</td>\n",
       "    </tr>\n",
       "    <tr>\n",
       "      <th>11</th>\n",
       "      <td>2/20/2024 13:28:25</td>\n",
       "      <td>30 -45</td>\n",
       "      <td>Male</td>\n",
       "      <td>Data Analyst</td>\n",
       "      <td>Effective</td>\n",
       "      <td>Satisfied</td>\n",
       "      <td>0-5 hours</td>\n",
       "      <td>yes</td>\n",
       "      <td>yes</td>\n",
       "      <td>Effective</td>\n",
       "      <td>NaN</td>\n",
       "      <td>NaN</td>\n",
       "    </tr>\n",
       "  </tbody>\n",
       "</table>\n",
       "</div>"
      ],
      "text/plain": [
       "             Timestamp      Age  Gender       Program  Teaching methods   \\\n",
       "7   2/19/2024 14:03:24   30 -45  Female  Data Analyst          Effective   \n",
       "8   2/19/2024 15:10:06  18 - 25    Male  Data Analyst     Very effective   \n",
       "9    2/20/2024 1:25:29   30 -45  Female  Data Analyst     Very effective   \n",
       "10   2/20/2024 6:10:39   30 -45    Male  Data Analyst          Effective   \n",
       "11  2/20/2024 13:28:25   30 -45    Male  Data Analyst          Effective   \n",
       "\n",
       "        Experience Study Habit  Additional learning Support Services  \\\n",
       "7        Satisfied    0-5 hours                 yes               No   \n",
       "8   Very Satisfied    0-5 hours                 yes              yes   \n",
       "9        Satisfied    0-5 hours                 yes              yes   \n",
       "10       Satisfied    0-5 hours                 yes              yes   \n",
       "11       Satisfied    0-5 hours                 yes              yes   \n",
       "\n",
       "   Academic support                        Suggestions   Feedback   \n",
       "7                NaN  I truly am appreciative of Poshem        NaN  \n",
       "8          Effective                                NaN        NaN  \n",
       "9          Effective                                NaN        NaN  \n",
       "10    Very effective                               Nill        NaN  \n",
       "11         Effective                                NaN        NaN  "
      ]
     },
     "execution_count": 7,
     "metadata": {},
     "output_type": "execute_result"
    }
   ],
   "source": [
    "df.tail(5) # Displaying last 5 rows."
   ]
  },
  {
   "cell_type": "markdown",
   "id": "c045f5e4",
   "metadata": {},
   "source": [
    "## EDA: Exploring our dataset"
   ]
  },
  {
   "cell_type": "code",
   "execution_count": 8,
   "id": "8f83618c",
   "metadata": {},
   "outputs": [
    {
     "data": {
      "text/plain": [
       "(12, 12)"
      ]
     },
     "execution_count": 8,
     "metadata": {},
     "output_type": "execute_result"
    }
   ],
   "source": [
    "df.shape"
   ]
  },
  {
   "cell_type": "code",
   "execution_count": 9,
   "id": "3cd7e4c3",
   "metadata": {},
   "outputs": [
    {
     "data": {
      "text/plain": [
       "array(['Timestamp', 'Age', 'Gender', 'Program', ' Teaching methods ',\n",
       "       'Experience', 'Study Habit ', 'Additional learning',\n",
       "       'Support Services', 'Academic support ', 'Suggestions ',\n",
       "       ' Feedback '], dtype=object)"
      ]
     },
     "execution_count": 9,
     "metadata": {},
     "output_type": "execute_result"
    }
   ],
   "source": [
    "df.columns.values"
   ]
  },
  {
   "cell_type": "code",
   "execution_count": 10,
   "id": "7ec91a89",
   "metadata": {},
   "outputs": [
    {
     "data": {
      "text/html": [
       "<div>\n",
       "<style scoped>\n",
       "    .dataframe tbody tr th:only-of-type {\n",
       "        vertical-align: middle;\n",
       "    }\n",
       "\n",
       "    .dataframe tbody tr th {\n",
       "        vertical-align: top;\n",
       "    }\n",
       "\n",
       "    .dataframe thead th {\n",
       "        text-align: right;\n",
       "    }\n",
       "</style>\n",
       "<table border=\"1\" class=\"dataframe\">\n",
       "  <thead>\n",
       "    <tr style=\"text-align: right;\">\n",
       "      <th></th>\n",
       "      <th>Timestamp</th>\n",
       "      <th>Age</th>\n",
       "      <th>Gender</th>\n",
       "      <th>Program</th>\n",
       "      <th>Teaching methods</th>\n",
       "      <th>Experience</th>\n",
       "      <th>Study Habit</th>\n",
       "      <th>Additional learning</th>\n",
       "      <th>Support Services</th>\n",
       "      <th>Academic support</th>\n",
       "      <th>Suggestions</th>\n",
       "      <th>Feedback</th>\n",
       "    </tr>\n",
       "  </thead>\n",
       "  <tbody>\n",
       "    <tr>\n",
       "      <th>count</th>\n",
       "      <td>12</td>\n",
       "      <td>12</td>\n",
       "      <td>12</td>\n",
       "      <td>12</td>\n",
       "      <td>12</td>\n",
       "      <td>12</td>\n",
       "      <td>12</td>\n",
       "      <td>12</td>\n",
       "      <td>12</td>\n",
       "      <td>9</td>\n",
       "      <td>6</td>\n",
       "      <td>4</td>\n",
       "    </tr>\n",
       "    <tr>\n",
       "      <th>unique</th>\n",
       "      <td>12</td>\n",
       "      <td>3</td>\n",
       "      <td>2</td>\n",
       "      <td>1</td>\n",
       "      <td>2</td>\n",
       "      <td>2</td>\n",
       "      <td>3</td>\n",
       "      <td>1</td>\n",
       "      <td>2</td>\n",
       "      <td>2</td>\n",
       "      <td>6</td>\n",
       "      <td>4</td>\n",
       "    </tr>\n",
       "    <tr>\n",
       "      <th>top</th>\n",
       "      <td>2/18/2024 14:47:44</td>\n",
       "      <td>30 -45</td>\n",
       "      <td>Male</td>\n",
       "      <td>Data Analyst</td>\n",
       "      <td>Effective</td>\n",
       "      <td>Satisfied</td>\n",
       "      <td>0-5 hours</td>\n",
       "      <td>yes</td>\n",
       "      <td>yes</td>\n",
       "      <td>Effective</td>\n",
       "      <td>Just came in, everything is still moving well</td>\n",
       "      <td>I love the teachings</td>\n",
       "    </tr>\n",
       "    <tr>\n",
       "      <th>freq</th>\n",
       "      <td>1</td>\n",
       "      <td>6</td>\n",
       "      <td>7</td>\n",
       "      <td>12</td>\n",
       "      <td>6</td>\n",
       "      <td>7</td>\n",
       "      <td>9</td>\n",
       "      <td>12</td>\n",
       "      <td>9</td>\n",
       "      <td>5</td>\n",
       "      <td>1</td>\n",
       "      <td>1</td>\n",
       "    </tr>\n",
       "  </tbody>\n",
       "</table>\n",
       "</div>"
      ],
      "text/plain": [
       "                 Timestamp     Age Gender       Program  Teaching methods   \\\n",
       "count                   12      12     12            12                 12   \n",
       "unique                  12       3      2             1                  2   \n",
       "top     2/18/2024 14:47:44  30 -45   Male  Data Analyst          Effective   \n",
       "freq                     1       6      7            12                  6   \n",
       "\n",
       "       Experience Study Habit  Additional learning Support Services  \\\n",
       "count          12           12                  12               12   \n",
       "unique          2            3                   1                2   \n",
       "top     Satisfied    0-5 hours                 yes              yes   \n",
       "freq            7            9                  12                9   \n",
       "\n",
       "       Academic support                                     Suggestions   \\\n",
       "count                  9                                               6   \n",
       "unique                 2                                               6   \n",
       "top            Effective  Just came in, everything is still moving well    \n",
       "freq                   5                                               1   \n",
       "\n",
       "                    Feedback   \n",
       "count                       4  \n",
       "unique                      4  \n",
       "top     I love the teachings   \n",
       "freq                        1  "
      ]
     },
     "execution_count": 10,
     "metadata": {},
     "output_type": "execute_result"
    }
   ],
   "source": [
    "df.describe()"
   ]
  },
  {
   "cell_type": "code",
   "execution_count": 11,
   "id": "23352db5",
   "metadata": {},
   "outputs": [
    {
     "data": {
      "text/plain": [
       "Timestamp              0\n",
       "Age                    0\n",
       "Gender                 0\n",
       "Program                0\n",
       " Teaching methods      0\n",
       "Experience             0\n",
       "Study Habit            0\n",
       "Additional learning    0\n",
       "Support Services       0\n",
       "Academic support       3\n",
       "Suggestions            6\n",
       " Feedback              8\n",
       "dtype: int64"
      ]
     },
     "execution_count": 11,
     "metadata": {},
     "output_type": "execute_result"
    }
   ],
   "source": [
    "df.isnull().sum()"
   ]
  },
  {
   "cell_type": "markdown",
   "id": "929f4a7c",
   "metadata": {},
   "source": [
    "## Removing Null Values in our dataset."
   ]
  },
  {
   "cell_type": "code",
   "execution_count": 12,
   "id": "aca3b6d7",
   "metadata": {},
   "outputs": [
    {
     "data": {
      "text/plain": [
       "'Effective'"
      ]
     },
     "execution_count": 12,
     "metadata": {},
     "output_type": "execute_result"
    }
   ],
   "source": [
    "df['Academic support '].mode()[0]"
   ]
  },
  {
   "cell_type": "code",
   "execution_count": 13,
   "id": "1daf3d75",
   "metadata": {},
   "outputs": [],
   "source": [
    "df['Academic support '] = df['Academic support '].fillna(df['Academic support '].mode()[0])"
   ]
  },
  {
   "cell_type": "code",
   "execution_count": 14,
   "id": "507c9cd7",
   "metadata": {},
   "outputs": [],
   "source": [
    "df.drop(['Timestamp',' Feedback '], axis=1, inplace=True)"
   ]
  },
  {
   "cell_type": "code",
   "execution_count": 15,
   "id": "3d6cdff9",
   "metadata": {},
   "outputs": [
    {
     "data": {
      "text/plain": [
       "'Everything is top-notch till now.'"
      ]
     },
     "execution_count": 15,
     "metadata": {},
     "output_type": "execute_result"
    }
   ],
   "source": [
    "df['Suggestions '].mode()[0]"
   ]
  },
  {
   "cell_type": "code",
   "execution_count": 16,
   "id": "fb95440c",
   "metadata": {},
   "outputs": [],
   "source": [
    "df['Suggestions '] = df['Suggestions '].fillna(df['Suggestions '].mode()[0])"
   ]
  },
  {
   "cell_type": "code",
   "execution_count": 17,
   "id": "5a1c875e",
   "metadata": {},
   "outputs": [
    {
     "data": {
      "text/plain": [
       "Age                    0\n",
       "Gender                 0\n",
       "Program                0\n",
       " Teaching methods      0\n",
       "Experience             0\n",
       "Study Habit            0\n",
       "Additional learning    0\n",
       "Support Services       0\n",
       "Academic support       0\n",
       "Suggestions            0\n",
       "dtype: int64"
      ]
     },
     "execution_count": 17,
     "metadata": {},
     "output_type": "execute_result"
    }
   ],
   "source": [
    "df.isnull().sum()"
   ]
  },
  {
   "cell_type": "markdown",
   "id": "9ee08d75",
   "metadata": {},
   "source": [
    "## Visualizing our data"
   ]
  },
  {
   "cell_type": "code",
   "execution_count": 18,
   "id": "ec3aba1c",
   "metadata": {},
   "outputs": [
    {
     "data": {
      "text/plain": [
       "<AxesSubplot:xlabel='Gender', ylabel='count'>"
      ]
     },
     "execution_count": 18,
     "metadata": {},
     "output_type": "execute_result"
    },
    {
     "data": {
      "image/png": "[encoded data removed]",
      "text/plain": [
       "<Figure size 640x480 with 1 Axes>"
      ]
     },
     "metadata": {},
     "output_type": "display_data"
    }
   ],
   "source": [
    "sns.countplot(data=df, x='Gender')"
   ]
  },
  {
   "cell_type": "code",
   "execution_count": 19,
   "id": "75c6a948",
   "metadata": {},
   "outputs": [
    {
     "data": {
      "text/plain": [
       "<AxesSubplot:xlabel='Age', ylabel='count'>"
      ]
     },
     "execution_count": 19,
     "metadata": {},
     "output_type": "execute_result"
    },
    {
     "data": {
      "image/png": "[encoded data removed]",
      "text/plain": [
       "<Figure size 640x480 with 1 Axes>"
      ]
     },
     "metadata": {},
     "output_type": "display_data"
    }
   ],
   "source": [
    "sns.countplot(data=df, x='Age')"
   ]
  },
  {
   "cell_type": "code",
   "execution_count": 20,
   "id": "8238eaf8",
   "metadata": {},
   "outputs": [
    {
     "data": {
      "text/plain": [
       "<AxesSubplot:xlabel='Support Services', ylabel='count'>"
      ]
     },
     "execution_count": 20,
     "metadata": {},
     "output_type": "execute_result"
    },
    {
     "data": {
      "image/png": "[encoded data removed]",
      "text/plain": [
       "<Figure size 640x480 with 1 Axes>"
      ]
     },
     "metadata": {},
     "output_type": "display_data"
    }
   ],
   "source": [
    "sns.countplot(data=df, x='Support Services')"
   ]
  },
  {
   "cell_type": "code",
   "execution_count": 21,
   "id": "dd8c7fc5",
   "metadata": {},
   "outputs": [
    {
     "data": {
      "text/plain": [
       "<AxesSubplot:xlabel='Study Habit ', ylabel='count'>"
      ]
     },
     "execution_count": 21,
     "metadata": {},
     "output_type": "execute_result"
    },
    {
     "data": {
      "image/png": "[encoded data removed]",
      "text/plain": [
       "<Figure size 640x480 with 1 Axes>"
      ]
     },
     "metadata": {},
     "output_type": "display_data"
    }
   ],
   "source": [
    "sns.countplot(data=df, x='Study Habit ')"
   ]
  },
  {
   "cell_type": "code",
   "execution_count": 22,
   "id": "8eff1d16",
   "metadata": {},
   "outputs": [
    {
     "data": {
      "text/plain": [
       "<AxesSubplot:xlabel='Experience', ylabel='count'>"
      ]
     },
     "execution_count": 22,
     "metadata": {},
     "output_type": "execute_result"
    },
    {
     "data": {
      "image/png": "[encoded data removed]",
      "text/plain": [
       "<Figure size 640x480 with 1 Axes>"
      ]
     },
     "metadata": {},
     "output_type": "display_data"
    }
   ],
   "source": [
    "sns.countplot(data=df, x='Experience')"
   ]
  },
  {
   "cell_type": "code",
   "execution_count": 23,
   "id": "c0c09906",
   "metadata": {},
   "outputs": [
    {
     "data": {
      "text/plain": [
       "<AxesSubplot:xlabel='Study Habit ', ylabel='count'>"
      ]
     },
     "execution_count": 23,
     "metadata": {},
     "output_type": "execute_result"
    },
    {
     "data": {
      "image/png": "[encoded data removed]",
      "text/plain": [
       "<Figure size 640x480 with 1 Axes>"
      ]
     },
     "metadata": {},
     "output_type": "display_data"
    }
   ],
   "source": [
    "sns.countplot(data=df, x='Study Habit ', hue='Gender')"
   ]
  },
  {
   "cell_type": "code",
   "execution_count": 24,
   "id": "2944d054",
   "metadata": {},
   "outputs": [
    {
     "data": {
      "text/plain": [
       "<AxesSubplot:xlabel='Support Services', ylabel='count'>"
      ]
     },
     "execution_count": 24,
     "metadata": {},
     "output_type": "execute_result"
    },
    {
     "data": {
      "image/png": "[encoded data removed]",
      "text/plain": [
       "<Figure size 640x480 with 1 Axes>"
      ]
     },
     "metadata": {},
     "output_type": "display_data"
    }
   ],
   "source": [
    "sns.countplot(data=df, x='Support Services', hue='Gender')"
   ]
  },
  {
   "cell_type": "code",
   "execution_count": 25,
   "id": "6fde2ded",
   "metadata": {},
   "outputs": [
    {
     "data": {
      "text/plain": [
       "<seaborn.axisgrid.JointGrid at 0x1f63f9b0700>"
      ]
     },
     "execution_count": 25,
     "metadata": {},
     "output_type": "execute_result"
    },
    {
     "data": {
      "image/png": "[encoded data removed]",
      "text/plain": [
       "<Figure size 600x600 with 3 Axes>"
      ]
     },
     "metadata": {},
     "output_type": "display_data"
    }
   ],
   "source": [
    "sns.jointplot(data=df, x='Age', y='Support Services')"
   ]
  },
  {
   "cell_type": "code",
   "execution_count": 26,
   "id": "75da6f73",
   "metadata": {},
   "outputs": [],
   "source": [
    "# Done"
   ]
  }
 ],
 "metadata": {
  "kernelspec": {
   "display_name": "Python 3 (ipykernel)",
   "language": "python",
   "name": "python3"
  },
  "language_info": {
   "codemirror_mode": {
    "name": "ipython",
    "version": 3
   },
   "file_extension": ".py",
   "mimetype": "text/x-python",
   "name": "python",
   "nbconvert_exporter": "python",
   "pygments_lexer": "ipython3",
   "version": "3.9.13"
  }
 },
 "nbformat": 4,
 "nbformat_minor": 5
}
